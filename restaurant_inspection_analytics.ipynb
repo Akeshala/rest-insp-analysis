{
 "cells": [
  {
   "cell_type": "code",
   "execution_count": 100,
   "id": "9944ef6d",
   "metadata": {},
   "outputs": [
    {
     "data": {
      "application/vnd.jupyter.widget-view+json": {
       "model_id": "",
       "version_major": 2,
       "version_minor": 0
      },
      "text/plain": [
       "FloatProgress(value=0.0, bar_style='info', description='Progress:', layout=Layout(height='25px', width='50%'),…"
      ]
     },
     "metadata": {},
     "output_type": "display_data"
    }
   ],
   "source": [
    "from pyspark.sql import SparkSession\n",
    "from pyspark.sql.window import Window\n",
    "from pyspark.sql.functions import when\n",
    "from pyspark.sql.functions import min as spark_min, max as spark_max, round, desc\n",
    "from pyspark.sql.functions import col, collect_set, concat_ws, to_date, current_date, date_sub\n",
    "from pyspark.sql.functions import row_number\n",
    "\n",
    "\n",
    "spark = SparkSession.builder.appName(\"FirstApp\").getOrCreate()"
   ]
  },
  {
   "cell_type": "markdown",
   "id": "354aa5c1",
   "metadata": {},
   "source": [
    "# Dataset1"
   ]
  },
  {
   "cell_type": "code",
   "execution_count": 129,
   "id": "4c3855c4",
   "metadata": {},
   "outputs": [
    {
     "data": {
      "application/vnd.jupyter.widget-view+json": {
       "model_id": "",
       "version_major": 2,
       "version_minor": 0
      },
      "text/plain": [
       "FloatProgress(value=0.0, bar_style='info', description='Progress:', layout=Layout(height='25px', width='50%'),…"
      ]
     },
     "metadata": {},
     "output_type": "display_data"
    },
    {
     "name": "stdout",
     "output_type": "stream",
     "text": [
      "+---------------+----------------+----------------+--------------------+--------------------+----------------+\n",
      "|inspection_date|   restaurant_id| restaurant_name|     inspection_type|         description|normalized_score|\n",
      "+---------------+----------------+----------------+--------------------+--------------------+----------------+\n",
      "|     02/29/2024|#807 TUTTA BELLA|#807 TUTTA BELLA|Routine Inspectio...|3400 - Wiping clo...|          10.638|\n",
      "|     02/29/2024|#807 TUTTA BELLA|#807 TUTTA BELLA|Routine Inspectio...|4200 - Food-conta...|          10.638|\n",
      "|     03/02/2023|#807 TUTTA BELLA|#807 TUTTA BELLA|Routine Inspectio...|2120 - Proper col...|          15.957|\n",
      "|     03/02/2023|#807 TUTTA BELLA|#807 TUTTA BELLA|Routine Inspectio...|1300 - Food conta...|          15.957|\n",
      "|     08/31/2022|#807 TUTTA BELLA|#807 TUTTA BELLA|Routine Inspectio...|3200 - Insects, r...|          10.638|\n",
      "|     08/31/2022|#807 TUTTA BELLA|#807 TUTTA BELLA|Routine Inspectio...|0200 - Food Worke...|          10.638|\n",
      "|     01/13/2022|#807 TUTTA BELLA|#807 TUTTA BELLA|Routine Inspectio...|                NULL|           5.319|\n",
      "|     01/06/2021|#807 TUTTA BELLA|#807 TUTTA BELLA|Routine Inspectio...|                NULL|           5.319|\n",
      "|     04/22/2024|       +MAS CAFE|       +MAS CAFE|Routine Inspectio...|                NULL|           5.319|\n",
      "|     06/22/2023|       +MAS CAFE|       +MAS CAFE|Routine Inspectio...|                NULL|           5.319|\n",
      "|     03/01/2023|       +MAS CAFE|       +MAS CAFE|Routine Inspectio...|4400 - Plumbing p...|          21.277|\n",
      "|     03/01/2023|       +MAS CAFE|       +MAS CAFE|Routine Inspectio...|1710 - Proper hot...|          21.277|\n",
      "|     07/13/2022|       +MAS CAFE|       +MAS CAFE|   Return Inspection|                NULL|           5.319|\n",
      "|     06/29/2022|       +MAS CAFE|       +MAS CAFE|Routine Inspectio...|3400 - Wiping clo...|          30.319|\n",
      "|     06/29/2022|       +MAS CAFE|       +MAS CAFE|Routine Inspectio...|4800 - Physical f...|          30.319|\n",
      "|     06/29/2022|       +MAS CAFE|       +MAS CAFE|Routine Inspectio...|3200 - Insects, r...|          30.319|\n",
      "|     06/29/2022|       +MAS CAFE|       +MAS CAFE|Routine Inspectio...|1600 - Proper coo...|          30.319|\n",
      "|     06/29/2022|       +MAS CAFE|       +MAS CAFE|Routine Inspectio...|2110 - Proper col...|          30.319|\n",
      "|     12/29/2021|       +MAS CAFE|       +MAS CAFE|Routine Inspectio...|                NULL|           5.319|\n",
      "|     07/29/2020|       +MAS CAFE|       +MAS CAFE|Consultation/Educ...|                NULL|           5.319|\n",
      "+---------------+----------------+----------------+--------------------+--------------------+----------------+\n",
      "only showing top 20 rows"
     ]
    }
   ],
   "source": [
    "# Read all CSV files into a single DataFrame\n",
    "df1 = spark.read.csv(\"s3://emr-project/output/dataset1/\" + \"*.csv\", header=True, inferSchema=True)\n",
    "\n",
    "df1 = df1.withColumn(\"score\", col(\"score\").cast(\"double\"))\n",
    "df1 = df1.filter(df1.score.isNotNull())\n",
    "df1 = df1.filter(df1.restaurant_id.isNotNull())\n",
    "\n",
    "min_score, max_score = df1.select(spark_min(col(\"score\")), spark_max(col(\"score\"))).first()\n",
    "\n",
    "df1 = df1.withColumn(\"normalized_score\", (col(\"score\") - min_score) / (max_score - min_score))\n",
    "df1 = df1.withColumn(\"normalized_score\", round(col(\"normalized_score\") * 100, 3))\n",
    "\n",
    "df1 = df1.drop(\"score\")\n",
    "\n",
    "df1.show()"
   ]
  },
  {
   "cell_type": "code",
   "execution_count": 130,
   "id": "66d63254",
   "metadata": {},
   "outputs": [
    {
     "data": {
      "application/vnd.jupyter.widget-view+json": {
       "model_id": "",
       "version_major": 2,
       "version_minor": 0
      },
      "text/plain": [
       "FloatProgress(value=0.0, bar_style='info', description='Progress:', layout=Layout(height='25px', width='50%'),…"
      ]
     },
     "metadata": {},
     "output_type": "display_data"
    },
    {
     "name": "stdout",
     "output_type": "stream",
     "text": [
      "+--------------------+-----+--------------------+\n",
      "|       restaurant_id|count|     restaurant_name|\n",
      "+--------------------+-----+--------------------+\n",
      "|           TACO TIME| 1127|           TACO TIME|\n",
      "|              SUBWAY| 1026|        SUBWAY #3146|\n",
      "|              SUBWAY| 1026|              SUBWAY|\n",
      "|              SUBWAY| 1026|       SUBWAY #10558|\n",
      "|              SUBWAY| 1026|MAPLE VALLEY SUBW...|\n",
      "| PAGLIACCI PIZZA INC|  687| PAGLIACCI PIZZA INC|\n",
      "|    TOSHI'S TERIYAKI|  412|    TOSHI'S TERIYAKI|\n",
      "|TAQUERIA EL RINCO...|  408|TAQUERIA EL RINCO...|\n",
      "|         CAFFE LADRO|  397|         CAFFE LADRO|\n",
      "|          MCDONALD'S|  333|   MCDONALD'S #11027|\n",
      "+--------------------+-----+--------------------+"
     ]
    }
   ],
   "source": [
    "count_df1 = df1.groupBy(\"restaurant_id\").count()\n",
    "result_df1 = count_df1.join(\n",
    "    df1.select(\"restaurant_id\", \"restaurant_name\").distinct(), \n",
    "    on=\"restaurant_id\", \n",
    "    how=\"left\"\n",
    ")\n",
    "sorted_df1 = result_df1.orderBy(col(\"count\").desc()).limit(10)\n",
    "sorted_df1.show()"
   ]
  },
  {
   "cell_type": "code",
   "execution_count": 131,
   "id": "b44a8913",
   "metadata": {},
   "outputs": [
    {
     "data": {
      "application/vnd.jupyter.widget-view+json": {
       "model_id": "",
       "version_major": 2,
       "version_minor": 0
      },
      "text/plain": [
       "FloatProgress(value=0.0, bar_style='info', description='Progress:', layout=Layout(height='25px', width='50%'),…"
      ]
     },
     "metadata": {},
     "output_type": "display_data"
    },
    {
     "name": "stdout",
     "output_type": "stream",
     "text": [
      "+--------------------+------+\n",
      "|     inspection_type| count|\n",
      "+--------------------+------+\n",
      "|Routine Inspectio...|218396|\n",
      "|Consultation/Educ...| 38718|\n",
      "|   Return Inspection|  6764|\n",
      "+--------------------+------+"
     ]
    }
   ],
   "source": [
    "count_df1 = df1.groupBy(\"inspection_type\").count()\n",
    "sorted_df1 = count_df1.orderBy(col(\"count\").desc()).limit(10)\n",
    "sorted_df1.show()"
   ]
  },
  {
   "cell_type": "code",
   "execution_count": 132,
   "id": "28011f68",
   "metadata": {},
   "outputs": [
    {
     "data": {
      "application/vnd.jupyter.widget-view+json": {
       "model_id": "",
       "version_major": 2,
       "version_minor": 0
      },
      "text/plain": [
       "FloatProgress(value=0.0, bar_style='info', description='Progress:', layout=Layout(height='25px', width='50%'),…"
      ]
     },
     "metadata": {},
     "output_type": "display_data"
    },
    {
     "name": "stdout",
     "output_type": "stream",
     "text": [
      "+---------------+----------------+--------------------+--------------------+----------------+\n",
      "|inspection_date| restaurant_name|     inspection_type|         description|normalized_score|\n",
      "+---------------+----------------+--------------------+--------------------+----------------+\n",
      "|     2022-01-13|#807 TUTTA BELLA|Routine Inspectio...|                NULL|           5.319|\n",
      "|     2021-01-06|#807 TUTTA BELLA|Routine Inspectio...|                NULL|           5.319|\n",
      "|     2022-07-13|       +MAS CAFE|   Return Inspection|                NULL|           5.319|\n",
      "|     2022-06-29|       +MAS CAFE|Routine Inspectio...|3400 - Wiping clo...|          30.319|\n",
      "|     2022-06-29|       +MAS CAFE|Routine Inspectio...|4800 - Physical f...|          30.319|\n",
      "|     2022-06-29|       +MAS CAFE|Routine Inspectio...|3200 - Insects, r...|          30.319|\n",
      "|     2022-06-29|       +MAS CAFE|Routine Inspectio...|1600 - Proper coo...|          30.319|\n",
      "|     2022-06-29|       +MAS CAFE|Routine Inspectio...|2110 - Proper col...|          30.319|\n",
      "|     2021-12-29|       +MAS CAFE|Routine Inspectio...|                NULL|           5.319|\n",
      "|     2020-07-29|       +MAS CAFE|Consultation/Educ...|                NULL|           5.319|\n",
      "|     2022-07-13|     100 LB CLAM|Consultation/Educ...|                NULL|           5.319|\n",
      "|     2019-09-12|     100 LB CLAM|Routine Inspectio...|                NULL|           5.319|\n",
      "|     2017-07-24|     100 LB CLAM|Routine Inspectio...|3300 - Potential ...|          18.617|\n",
      "|     2017-07-24|     100 LB CLAM|Routine Inspectio...|0200 - Food Worke...|          18.617|\n",
      "|     2017-07-24|     100 LB CLAM|Routine Inspectio...|0600 - Adequate h...|          18.617|\n",
      "|     2017-07-24|     100 LB CLAM|Routine Inspectio...|2300 - Proper Con...|          18.617|\n",
      "|     2017-07-06|     100 LB CLAM|Consultation/Educ...|                NULL|           5.319|\n",
      "|     2016-08-31|     100 LB CLAM|Consultation/Educ...|                NULL|           5.319|\n",
      "|     2022-06-03| 100TH AVE CAKES|Consultation/Educ...|                NULL|           5.319|\n",
      "|     2022-04-29| 100TH AVE CAKES|Routine Inspectio...|                NULL|           5.319|\n",
      "+---------------+----------------+--------------------+--------------------+----------------+\n",
      "only showing top 20 rows"
     ]
    }
   ],
   "source": [
    "# Convert the Inspection_date column to date type\n",
    "df1 = df1.withColumn(\"inspection_date\", to_date(col(\"inspection_date\"), \"MM/dd/yyyy\"))\n",
    "\n",
    "# Calculate the date 2 years ago from today\n",
    "two_years_ago = date_sub(current_date(), 2 * 365)\n",
    "\n",
    "old_inspections_df1 = df1.filter(col(\"inspection_date\") < two_years_ago)\n",
    "old_inspections_df1 = old_inspections_df1.drop(\"restaurant_id\")\n",
    "\n",
    "# Show the filtered DataFrame\n",
    "old_inspections_df1.show()"
   ]
  },
  {
   "cell_type": "code",
   "execution_count": 134,
   "id": "7e083d25",
   "metadata": {},
   "outputs": [
    {
     "data": {
      "application/vnd.jupyter.widget-view+json": {
       "model_id": "",
       "version_major": 2,
       "version_minor": 0
      },
      "text/plain": [
       "FloatProgress(value=0.0, bar_style='info', description='Progress:', layout=Layout(height='25px', width='50%'),…"
      ]
     },
     "metadata": {},
     "output_type": "display_data"
    },
    {
     "name": "stdout",
     "output_type": "stream",
     "text": [
      "+---------------+--------------------+--------------------+--------------------+----------------+\n",
      "|inspection_date|     restaurant_name|     inspection_type|         description|normalized_score|\n",
      "+---------------+--------------------+--------------------+--------------------+----------------+\n",
      "|     2022-03-26|  ADAMS BENCH WINERY|Routine Inspectio...|                NULL|           5.319|\n",
      "|     2022-03-16|AMAZON - INVENT C...|Routine Inspectio...|                NULL|           5.319|\n",
      "|     2022-03-16|AMAZON S - MARKET...|Routine Inspectio...|                NULL|           5.319|\n",
      "|     2022-03-16|   AMAZON S- KITCHEN|Routine Inspectio...|                NULL|           5.319|\n",
      "|     2022-04-02|AMBASSADOR WINES ...|Routine Inspectio...|                NULL|           5.319|\n",
      "|     2019-03-12|AMERICAN LEGION P...|Routine Inspectio...|                NULL|           5.319|\n",
      "|     2022-05-21|ANCESTRY CELLARS ...|Routine Inspectio...|0600 - Adequate h...|          10.638|\n",
      "|     2022-03-26|ANCESTRY CELLARS,...|Routine Inspectio...|                NULL|           5.319|\n",
      "|     2022-03-24|ANCHORHEAD COFFEE...|Routine Inspectio...|                NULL|           5.319|\n",
      "|     2021-07-15|ANTOJITOS LA DONA...|Consultation/Educ...|                NULL|           5.319|\n",
      "|     2022-04-15|ARMSTRONG FAMILY ...|Routine Inspectio...|                NULL|           5.319|\n",
      "|     2019-04-05|AVANTI MARKETS NW...|Routine Inspectio...|                NULL|           5.319|\n",
      "|     2019-04-05|AVANTI MARKETS NW...|Routine Inspectio...|                NULL|           5.319|\n",
      "|     2022-03-26|Ambassador Wines ...|Routine Inspectio...|                NULL|           5.319|\n",
      "|     2022-04-02|BAER WINERY - TAS...|Routine Inspectio...|                NULL|           5.319|\n",
      "|     2022-03-26|BAER WINERY WOODI...|Routine Inspectio...|                NULL|           5.319|\n",
      "|     2022-04-02|BARRAGE CELLARS -...|Routine Inspectio...|0600 - Adequate h...|          10.638|\n",
      "|     2022-04-14|BEAUMONT CELLARS ...|Routine Inspectio...|                NULL|           5.319|\n",
      "|     2019-06-20|       BEST CATERING|Routine Inspectio...|                NULL|           5.319|\n",
      "|     2019-08-28|BEST OF BOTH WORL...|Routine Inspectio...|                NULL|           5.319|\n",
      "+---------------+--------------------+--------------------+--------------------+----------------+\n",
      "only showing top 20 rows"
     ]
    }
   ],
   "source": [
    "# Convert the Inspection_date column to date type\n",
    "df1 = df1.withColumn(\"inspection_date\", to_date(col(\"inspection_date\"), \"MM/dd/yyyy\"))\n",
    "\n",
    "# Define a window specification to partition by restaurant_id and order by Inspection_date descending\n",
    "window_spec = Window.partitionBy(\"restaurant_id\").orderBy(desc(\"inspection_date\"))\n",
    "\n",
    "# Add a row number to each row within the partition\n",
    "df1_with_row_num = df1.withColumn(\"row_num\", row_number().over(window_spec))\n",
    "\n",
    "# Filter to get only the latest record for each restaurant_id\n",
    "latest_records_df1 = df1_with_row_num.filter(col(\"row_num\") == 1).drop(\"row_num\")\n",
    "\n",
    "# Calculate the date two years ago from today\n",
    "two_years_ago = date_sub(current_date(), 2 * 365)\n",
    "\n",
    "# Filter records that are older than two years from latest_records_df\n",
    "old_records_df = latest_records_df1.filter(col(\"inspection_date\") < two_years_ago)\n",
    "\n",
    "old_records_df = old_records_df.drop(\"restaurant_id\")\n",
    "\n",
    "# Show the filtered DataFrame\n",
    "old_records_df.show()"
   ]
  },
  {
   "cell_type": "markdown",
   "id": "ae9df0a3",
   "metadata": {},
   "source": [
    "# Dataset 2"
   ]
  },
  {
   "cell_type": "code",
   "execution_count": 135,
   "id": "4eb7ca79",
   "metadata": {},
   "outputs": [
    {
     "data": {
      "application/vnd.jupyter.widget-view+json": {
       "model_id": "",
       "version_major": 2,
       "version_minor": 0
      },
      "text/plain": [
       "FloatProgress(value=0.0, bar_style='info', description='Progress:', layout=Layout(height='25px', width='50%'),…"
      ]
     },
     "metadata": {},
     "output_type": "display_data"
    },
    {
     "name": "stdout",
     "output_type": "stream",
     "text": [
      "+---------------+-------------+--------------------+--------------------+----------------+--------------------+\n",
      "|inspection_date|restaurant_id|     restaurant_name|     inspection_type|normalized_score|         description|\n",
      "+---------------+-------------+--------------------+--------------------+----------------+--------------------+\n",
      "|     06/08/2018|      2522268|         JET'S PIZZA|Canvass Re-Inspec...|           33.33|45. FOOD HANDLER ...|\n",
      "|     06/12/2018|      2222369|SIMPLY SOUPS SALA...|             Canvass|           33.33|2. FACILITIES TO ...|\n",
      "|     06/29/2018|      2418662|COLUMBUS MANOR RE...|Canvass Re-Inspec...|           33.33|33. FOOD AND NON-...|\n",
      "|     07/24/2018|      2147911|MEZZA GRILLED WRA...|             Canvass|           33.33|3. MANAGEMENT, FO...|\n",
      "|     08/14/2018|      2609804|GATELY SEAFOOD MA...|             License|           33.33|                NULL|\n",
      "|     08/07/2018|      2398548|BISMILLAH RESTAURANT|Canvass Re-Inspec...|           33.33|58. ALLERGEN TRAI...|\n",
      "|     06/05/2018|      2589109|    FRANCESCA'S CAFE|License Re-Inspec...|           33.33|                NULL|\n",
      "|     06/21/2018|      2215946|PRECIOUS LITTLE O...|             License|           33.33|35. WALLS, CEILIN...|\n",
      "|     07/09/2018|      2578279|PATRON MEXICAN GR...|           Complaint|           33.33|3. MANAGEMENT, FO...|\n",
      "|     08/03/2018|      1574489|              SUBWAY|             Canvass|           33.33|3. MANAGEMENT, FO...|\n",
      "|     06/20/2018|      1817904|              ALDI'S|             Canvass|           100.0|34. FLOORS: CONST...|\n",
      "|     07/18/2018|      1000572|JEWEL FOOD STORE ...|Short Form Complaint|           33.33|                NULL|\n",
      "|     06/01/2018|      1959535|          VISTA CAFE|             Canvass|           33.33|11. ADEQUATE NUMB...|\n",
      "|     07/26/2018|      2616121|   LONDONHOUSE HOTEL|             License|           100.0|                NULL|\n",
      "|     06/27/2018|      2215803|LAWNDALE COMMUNIT...|             License|           33.33|34. FLOORS: CONST...|\n",
      "|     06/20/2018|      2602078|          BIG SHARKS|             License|           33.33|                NULL|\n",
      "|     06/04/2018|      2595397|        TY FOOD MART|             License|           100.0|                NULL|\n",
      "|     07/26/2018|        28886|        ROSEBUD-RUSH|           Complaint|           33.33|3. MANAGEMENT, FO...|\n",
      "|     07/11/2018|      2004177|SPRINKLES CUPCAKE...|             Canvass|           66.66|3. MANAGEMENT, FO...|\n",
      "|     06/08/2018|      2535148|AFC SUSHI@JEWEL O...|             Canvass|           33.33|                NULL|\n",
      "+---------------+-------------+--------------------+--------------------+----------------+--------------------+\n",
      "only showing top 20 rows"
     ]
    }
   ],
   "source": [
    "# Read all CSV files into a single DataFrame\n",
    "df2 = spark.read.csv(\"s3://emr-project/output/dataset2/\" + \"*.csv\", header=True, inferSchema=True)\n",
    "\n",
    "df2 = df2.withColumn(\"score\", col(\"score\").cast(\"double\"))\n",
    "df2 = df2.filter(df2.score.isNotNull())\n",
    "\n",
    "df2 = df2.withColumnRenamed(\"score\", \"normalized_score\")\n",
    "\n",
    "df2.show()"
   ]
  },
  {
   "cell_type": "code",
   "execution_count": 136,
   "id": "1dcc853a",
   "metadata": {},
   "outputs": [
    {
     "data": {
      "application/vnd.jupyter.widget-view+json": {
       "model_id": "",
       "version_major": 2,
       "version_minor": 0
      },
      "text/plain": [
       "FloatProgress(value=0.0, bar_style='info', description='Progress:', layout=Layout(height='25px', width='50%'),…"
      ]
     },
     "metadata": {},
     "output_type": "display_data"
    },
    {
     "name": "stdout",
     "output_type": "stream",
     "text": [
      "+-------------+-----+--------------------+\n",
      "|restaurant_id|count|    restaurant_names|\n",
      "+-------------+-----+--------------------+\n",
      "|            0|  673|EPIPHANY PARISH/C...|\n",
      "|      1354323|  198|SPORTS SERVICE SO...|\n",
      "|        14616|  183|ILLINOIS SPORTSER...|\n",
      "|      1574001|   87|LEVY RESTAURANTS ...|\n",
      "|        60184|   64|TAQUERIA EL RANCHITO|\n",
      "|      2083833|   62|MARIANO'S FRESH M...|\n",
      "|      1142451|   60|JEWEL FOOD  STORE...|\n",
      "|      1974745|   59|LEVY RESTAURANTS ...|\n",
      "|        25152|   56|Chavez Upper Grad...|\n",
      "|      1884255|   56|FOOD 4 LESS, FOOD...|\n",
      "+-------------+-----+--------------------+"
     ]
    }
   ],
   "source": [
    "aggregated_names_df2 = df2.groupBy(\"restaurant_id\").agg(concat_ws(\", \", collect_set(\"restaurant_name\")).alias(\"restaurant_names\"))\n",
    "count_df2 = df2.groupBy(\"restaurant_id\").count()\n",
    "result_df2 = count_df2.join(aggregated_names_df2, on=\"restaurant_id\", how=\"left\")\n",
    "sorted_df2 = result_df2.orderBy(col(\"count\").desc()).limit(10)\n",
    "\n",
    "sorted_df2.show()"
   ]
  },
  {
   "cell_type": "code",
   "execution_count": 137,
   "id": "37666ea6",
   "metadata": {},
   "outputs": [
    {
     "data": {
      "application/vnd.jupyter.widget-view+json": {
       "model_id": "",
       "version_major": 2,
       "version_minor": 0
      },
      "text/plain": [
       "FloatProgress(value=0.0, bar_style='info', description='Progress:', layout=Layout(height='25px', width='50%'),…"
      ]
     },
     "metadata": {},
     "output_type": "display_data"
    },
    {
     "name": "stdout",
     "output_type": "stream",
     "text": [
      "+--------------------+------+\n",
      "|     inspection_type| count|\n",
      "+--------------------+------+\n",
      "|             Canvass|143364|\n",
      "|             License| 36772|\n",
      "|Canvass Re-Inspec...| 30598|\n",
      "|           Complaint| 26020|\n",
      "|License Re-Inspec...| 11706|\n",
      "|Complaint Re-Insp...| 10919|\n",
      "|Short Form Complaint|  8440|\n",
      "|      Non-Inspection|  3248|\n",
      "|Suspected Food Po...|   973|\n",
      "|        Consultation|   674|\n",
      "+--------------------+------+"
     ]
    }
   ],
   "source": [
    "count_df2 = df2.groupBy(\"inspection_type\").count()\n",
    "sorted_df2 = count_df2.orderBy(col(\"count\").desc()).limit(10)\n",
    "sorted_df2.show()"
   ]
  },
  {
   "cell_type": "code",
   "execution_count": 138,
   "id": "c2ce6709",
   "metadata": {},
   "outputs": [
    {
     "data": {
      "application/vnd.jupyter.widget-view+json": {
       "model_id": "",
       "version_major": 2,
       "version_minor": 0
      },
      "text/plain": [
       "FloatProgress(value=0.0, bar_style='info', description='Progress:', layout=Layout(height='25px', width='50%'),…"
      ]
     },
     "metadata": {},
     "output_type": "display_data"
    },
    {
     "name": "stdout",
     "output_type": "stream",
     "text": [
      "+---------------+--------------------+--------------------+----------------+--------------------+\n",
      "|inspection_date|     restaurant_name|     inspection_type|normalized_score|         description|\n",
      "+---------------+--------------------+--------------------+----------------+--------------------+\n",
      "|     2018-06-08|         JET'S PIZZA|Canvass Re-Inspec...|           33.33|45. FOOD HANDLER ...|\n",
      "|     2018-06-12|SIMPLY SOUPS SALA...|             Canvass|           33.33|2. FACILITIES TO ...|\n",
      "|     2018-06-29|COLUMBUS MANOR RE...|Canvass Re-Inspec...|           33.33|33. FOOD AND NON-...|\n",
      "|     2018-07-24|MEZZA GRILLED WRA...|             Canvass|           33.33|3. MANAGEMENT, FO...|\n",
      "|     2018-08-14|GATELY SEAFOOD MA...|             License|           33.33|                NULL|\n",
      "|     2018-08-07|BISMILLAH RESTAURANT|Canvass Re-Inspec...|           33.33|58. ALLERGEN TRAI...|\n",
      "|     2018-06-05|    FRANCESCA'S CAFE|License Re-Inspec...|           33.33|                NULL|\n",
      "|     2018-06-21|PRECIOUS LITTLE O...|             License|           33.33|35. WALLS, CEILIN...|\n",
      "|     2018-07-09|PATRON MEXICAN GR...|           Complaint|           33.33|3. MANAGEMENT, FO...|\n",
      "|     2018-08-03|              SUBWAY|             Canvass|           33.33|3. MANAGEMENT, FO...|\n",
      "|     2018-06-20|              ALDI'S|             Canvass|           100.0|34. FLOORS: CONST...|\n",
      "|     2018-07-18|JEWEL FOOD STORE ...|Short Form Complaint|           33.33|                NULL|\n",
      "|     2018-06-01|          VISTA CAFE|             Canvass|           33.33|11. ADEQUATE NUMB...|\n",
      "|     2018-07-26|   LONDONHOUSE HOTEL|             License|           100.0|                NULL|\n",
      "|     2018-06-27|LAWNDALE COMMUNIT...|             License|           33.33|34. FLOORS: CONST...|\n",
      "|     2018-06-20|          BIG SHARKS|             License|           33.33|                NULL|\n",
      "|     2018-06-04|        TY FOOD MART|             License|           100.0|                NULL|\n",
      "|     2018-07-26|        ROSEBUD-RUSH|           Complaint|           33.33|3. MANAGEMENT, FO...|\n",
      "|     2018-07-11|SPRINKLES CUPCAKE...|             Canvass|           66.66|3. MANAGEMENT, FO...|\n",
      "|     2018-06-08|AFC SUSHI@JEWEL O...|             Canvass|           33.33|                NULL|\n",
      "+---------------+--------------------+--------------------+----------------+--------------------+\n",
      "only showing top 20 rows"
     ]
    }
   ],
   "source": [
    "# Convert the Inspection_date column to date type\n",
    "df2 = df2.withColumn(\"inspection_date\", to_date(col(\"inspection_date\"), \"MM/dd/yyyy\"))\n",
    "\n",
    "# Calculate the date 2 years ago from today\n",
    "two_years_ago = date_sub(current_date(), 2 * 365)\n",
    "\n",
    "old_inspections_df2 = df2.filter(col(\"inspection_date\") < two_years_ago)\n",
    "old_inspections_df2 = old_inspections_df2.drop(\"restaurant_id\")\n",
    "\n",
    "# Show the filtered DataFrame\n",
    "old_inspections_df2.show()"
   ]
  },
  {
   "cell_type": "code",
   "execution_count": 139,
   "id": "cdd7d361",
   "metadata": {},
   "outputs": [
    {
     "data": {
      "application/vnd.jupyter.widget-view+json": {
       "model_id": "",
       "version_major": 2,
       "version_minor": 0
      },
      "text/plain": [
       "FloatProgress(value=0.0, bar_style='info', description='Progress:', layout=Layout(height='25px', width='50%'),…"
      ]
     },
     "metadata": {},
     "output_type": "display_data"
    },
    {
     "name": "stdout",
     "output_type": "stream",
     "text": [
      "+---------------+--------------------+--------------------+----------------+--------------------+\n",
      "|inspection_date|     restaurant_name|     inspection_type|normalized_score|         description|\n",
      "+---------------+--------------------+--------------------+----------------+--------------------+\n",
      "|     2017-02-24|CAL'S 400 LIQUORS...|             Canvass|           100.0|                NULL|\n",
      "|     2012-07-25|        PIZZA LOUNGE|             Canvass|           100.0|                NULL|\n",
      "|     2012-10-04|FRANCES COCKTAIL ...|             Canvass|           100.0|                NULL|\n",
      "|     2011-09-08| LLOYDS LOUNGE, INC.|Complaint Re-Insp...|           100.0|33. FOOD AND NON-...|\n",
      "|     2019-04-29|TREASURE ISLAND F...|             Canvass|           33.33|                NULL|\n",
      "|     2019-06-28|TREASURE ISLAND F...|             Canvass|           33.33|                NULL|\n",
      "|     2016-11-07| MIRABELL RESTAURANT|             Canvass|           33.33|                NULL|\n",
      "|     2013-08-20|     Orly's/Jalapeno|             Canvass|           33.33|                NULL|\n",
      "|     2010-03-08|SCHULZE & BURCH B...|           Complaint|           66.66|33. FOOD AND NON-...|\n",
      "|     2013-08-21| WHITE STOKES CO INC|           Complaint|           66.66|9. WATER SOURCE: ...|\n",
      "|     2022-05-17|GEPPERTH'S MARKET...|             Canvass|           33.33|                NULL|\n",
      "|     2013-11-14|IRVING PULASKI SH...|             Canvass|           100.0|                NULL|\n",
      "|     2020-06-25|      KUNKA PHARMACY|             Canvass|           100.0|                NULL|\n",
      "|     2013-03-12|           MR SHRIMP|             Canvass|           66.66|                NULL|\n",
      "|     2019-12-13|ROMANIAN KOSHER S...|             Canvass|           66.66|3. MANAGEMENT, FO...|\n",
      "|     2012-05-10|  GEORGE TSILIMIGRAS|             Canvass|           100.0|                NULL|\n",
      "|     2021-06-02|      GARFIELD GYROS|             Canvass|           33.33|                NULL|\n",
      "|     2013-01-29|   BEACHVIEW LIQUORS|             Canvass|           100.0|33. FOOD AND NON-...|\n",
      "|     2017-03-31|FIVE FACES ICE CR...|             Canvass|           33.33|33. FOOD AND NON-...|\n",
      "|     2011-07-18| BUDACKI'S DRIVE INN|             Canvass|           100.0|                NULL|\n",
      "+---------------+--------------------+--------------------+----------------+--------------------+\n",
      "only showing top 20 rows"
     ]
    }
   ],
   "source": [
    "# Convert the Inspection_date column to date type\n",
    "df2 = df2.withColumn(\"inspection_date\", to_date(col(\"inspection_date\"), \"MM/dd/yyyy\"))\n",
    "\n",
    "# Define a window specification to partition by restaurant_id and order by Inspection_date descending\n",
    "window_spec = Window.partitionBy(\"restaurant_id\").orderBy(desc(\"inspection_date\"))\n",
    "\n",
    "# Add a row number to each row within the partition\n",
    "df2_with_row_num = df2.withColumn(\"row_num\", row_number().over(window_spec))\n",
    "\n",
    "# Filter to get only the latest record for each restaurant_id\n",
    "latest_records_df2 = df2_with_row_num.filter(col(\"row_num\") == 1).drop(\"row_num\")\n",
    "\n",
    "# Calculate the date two years ago from today\n",
    "two_years_ago = date_sub(current_date(), 2 * 365)\n",
    "\n",
    "# Filter records that are older than two years from latest_records_df\n",
    "old_records_df = latest_records_df2.filter(col(\"inspection_date\") < two_years_ago)\n",
    "\n",
    "old_records_df = old_records_df.drop(\"restaurant_id\")\n",
    "\n",
    "# Show the filtered DataFrame\n",
    "old_records_df.show()"
   ]
  },
  {
   "cell_type": "markdown",
   "id": "97f6010e",
   "metadata": {},
   "source": [
    "# Dataset 3"
   ]
  },
  {
   "cell_type": "code",
   "execution_count": 140,
   "id": "590c6f6c",
   "metadata": {},
   "outputs": [
    {
     "data": {
      "application/vnd.jupyter.widget-view+json": {
       "model_id": "",
       "version_major": 2,
       "version_minor": 0
      },
      "text/plain": [
       "FloatProgress(value=0.0, bar_style='info', description='Progress:', layout=Layout(height='25px', width='50%'),…"
      ]
     },
     "metadata": {},
     "output_type": "display_data"
    },
    {
     "name": "stdout",
     "output_type": "stream",
     "text": [
      "+---------------+-------------+--------------------+--------------------+--------------------+----------------+\n",
      "|inspection_date|restaurant_id|     restaurant_name|     inspection_type|         description|normalized_score|\n",
      "+---------------+-------------+--------------------+--------------------+--------------------+----------------+\n",
      "|     09/23/2019|     41683279|INTREPID SEA-AIR-...|Cycle Inspection ...|                NULL|             0.0|\n",
      "|     02/18/2022|     50013704|ACAPULCO BAR REST...|Inter-Agency Task...|                NULL|             0.0|\n",
      "|     01/10/2023|     41482806|              DUNKIN|Cycle Inspection ...|Thawing procedure...|           6.548|\n",
      "|     10/13/2021|     41374469|              DUNKIN|Cycle Inspection ...|Food contact surf...|           7.143|\n",
      "|     01/30/2023|     41671540|              DUNKIN|Cycle Inspection ...|Live roaches in f...|           6.548|\n",
      "|     11/18/2022|     50000606|            VEKSLERS|Cycle Inspection ...|Hot TCS food item...|           7.738|\n",
      "|     06/20/2024|     50045594|              YASHIN|Cycle Inspection ...|Hot TCS food item...|          16.071|\n",
      "|     03/08/2023|     50126924|WALNUT BUS STOP R...|Pre-permit (Opera...|Thawing procedure...|           38.69|\n",
      "|     03/04/2023|     50044623|                 BAR|Cycle Inspection ...|                NULL|             0.0|\n",
      "|     06/08/2022|     50048923|    Milly's Pizzeria|Cycle Inspection ...|Hot food item not...|           7.738|\n",
      "|     07/03/2024|     41092640|           STOLOVAYA|Cycle Inspection ...|Wash hands sign n...|          18.452|\n",
      "|     06/07/2022|     50070481|        SANGRIA CAFE|Cycle Inspection ...|Hand wash sign no...|           7.143|\n",
      "|     06/01/2024|     50141961| THE AVENUE CAFE NYC|Inter-Agency Task...|                NULL|             0.0|\n",
      "|     02/15/2024|     41227684|       PIZZA D'AMORE|Cycle Inspection ...|Thawing procedure...|           7.738|\n",
      "|     02/19/2020|     41503575|          YUMMY THAI|Cycle Inspection ...|Wiping cloths soi...|           4.167|\n",
      "|     06/14/2022|     41705740|            CUCUMBER|Cycle Inspection ...|Hot food item not...|          18.452|\n",
      "|     06/07/2016|     41395425|CITI FIELD STAND 425|Cycle Inspection ...|                NULL|             0.0|\n",
      "|     08/30/2021|     50070295|        CORVO COFFEE|Cycle Inspection ...|Hot food item not...|          10.119|\n",
      "|     07/18/2024|     41696929|SCALLYWAG'S IRISH...|Cycle Inspection ...|Hot TCS food item...|          20.833|\n",
      "|     08/30/2023|     50125506|MIMI & JACKS DESS...|Pre-permit (Opera...|Thawing procedure...|           7.738|\n",
      "+---------------+-------------+--------------------+--------------------+--------------------+----------------+\n",
      "only showing top 20 rows"
     ]
    }
   ],
   "source": [
    "# Read all CSV files into a single DataFrame\n",
    "df3 = spark.read.csv(\"s3://emr-project/output/dataset3/\" + \"*.csv\", header=True, inferSchema=True)\n",
    "\n",
    "df3 = df3.withColumn(\"score\", col(\"score\").cast(\"double\"))\n",
    "df3 = df3.filter(df3.score.isNotNull())\n",
    "\n",
    "min_score, max_score = df3.select(spark_min(col(\"score\")), spark_max(col(\"score\"))).first()\n",
    "\n",
    "df3 = df3.withColumn(\"normalized_score\", (col(\"score\") - min_score) / (max_score - min_score))\n",
    "df3 = df3.withColumn(\"normalized_score\", round(col(\"normalized_score\") * 100, 3))\n",
    "\n",
    "df3 = df3.drop(\"score\")\n",
    "\n",
    "df3.show()"
   ]
  },
  {
   "cell_type": "code",
   "execution_count": 141,
   "id": "83d8fe06",
   "metadata": {},
   "outputs": [
    {
     "data": {
      "application/vnd.jupyter.widget-view+json": {
       "model_id": "",
       "version_major": 2,
       "version_minor": 0
      },
      "text/plain": [
       "FloatProgress(value=0.0, bar_style='info', description='Progress:', layout=Layout(height='25px', width='50%'),…"
      ]
     },
     "metadata": {},
     "output_type": "display_data"
    },
    {
     "name": "stdout",
     "output_type": "stream",
     "text": [
      "+-------------+-----+--------------------+\n",
      "|restaurant_id|count|     restaurant_name|\n",
      "+-------------+-----+--------------------+\n",
      "|     40365904|   64|        MEE SUM CAFE|\n",
      "|     50111296|   63| BIG WONG RESTAURANT|\n",
      "|     40398688|   60|          MASTER WOK|\n",
      "|     41406895|   59|SUN SAI GAI RESTA...|\n",
      "|     50089474|   59|    THE COPPOLA CAFE|\n",
      "|     50105561|   55|   DAVIDOVICH BAKERY|\n",
      "|     50079599|   52|     NICE ONE BAKERY|\n",
      "|     50123073|   52|    PI GREEK BAKERIE|\n",
      "|     50044250|   47|FUJI JAPANESE CUI...|\n",
      "|     41658324|   46|  MI CASA RESTAURANT|\n",
      "+-------------+-----+--------------------+"
     ]
    }
   ],
   "source": [
    "count_df3 = df3.groupBy(\"restaurant_id\").count()\n",
    "result_df3 = count_df3.join(\n",
    "    df3.select(\"restaurant_id\", \"restaurant_name\").distinct(), \n",
    "    on=\"restaurant_id\", \n",
    "    how=\"left\"\n",
    ")\n",
    "sorted_df3 = result_df3.orderBy(col(\"count\").desc()).limit(10)\n",
    "sorted_df3.show()"
   ]
  },
  {
   "cell_type": "code",
   "execution_count": 142,
   "id": "417e1e0f",
   "metadata": {},
   "outputs": [
    {
     "data": {
      "application/vnd.jupyter.widget-view+json": {
       "model_id": "",
       "version_major": 2,
       "version_minor": 0
      },
      "text/plain": [
       "FloatProgress(value=0.0, bar_style='info', description='Progress:', layout=Layout(height='25px', width='50%'),…"
      ]
     },
     "metadata": {},
     "output_type": "display_data"
    },
    {
     "name": "stdout",
     "output_type": "stream",
     "text": [
      "+--------------------+------+\n",
      "|     inspection_type| count|\n",
      "+--------------------+------+\n",
      "|Cycle Inspection ...|132395|\n",
      "|Cycle Inspection ...| 41967|\n",
      "|Pre-permit (Opera...| 34625|\n",
      "|Pre-permit (Opera...|  9883|\n",
      "|Pre-permit (Non-o...|  3092|\n",
      "|Pre-permit (Opera...|  1648|\n",
      "|Cycle Inspection ...|  1442|\n",
      "|Cycle Inspection ...|   968|\n",
      "|Pre-permit (Opera...|   733|\n",
      "|Inter-Agency Task...|   381|\n",
      "+--------------------+------+"
     ]
    }
   ],
   "source": [
    "count_df3 = df3.groupBy(\"inspection_type\").count()\n",
    "sorted_df3 = count_df3.orderBy(col(\"count\").desc()).limit(10)\n",
    "sorted_df3.show()"
   ]
  },
  {
   "cell_type": "code",
   "execution_count": 143,
   "id": "cde18086",
   "metadata": {},
   "outputs": [
    {
     "data": {
      "application/vnd.jupyter.widget-view+json": {
       "model_id": "",
       "version_major": 2,
       "version_minor": 0
      },
      "text/plain": [
       "FloatProgress(value=0.0, bar_style='info', description='Progress:', layout=Layout(height='25px', width='50%'),…"
      ]
     },
     "metadata": {},
     "output_type": "display_data"
    },
    {
     "name": "stdout",
     "output_type": "stream",
     "text": [
      "+---------------+--------------------+--------------------+----------------+--------------------+\n",
      "|inspection_date|     restaurant_name|     inspection_type|normalized_score|         description|\n",
      "+---------------+--------------------+--------------------+----------------+--------------------+\n",
      "|     2018-06-08|         JET'S PIZZA|Canvass Re-Inspec...|           33.33|45. FOOD HANDLER ...|\n",
      "|     2018-06-12|SIMPLY SOUPS SALA...|             Canvass|           33.33|2. FACILITIES TO ...|\n",
      "|     2018-06-29|COLUMBUS MANOR RE...|Canvass Re-Inspec...|           33.33|33. FOOD AND NON-...|\n",
      "|     2018-07-24|MEZZA GRILLED WRA...|             Canvass|           33.33|3. MANAGEMENT, FO...|\n",
      "|     2018-08-14|GATELY SEAFOOD MA...|             License|           33.33|                NULL|\n",
      "|     2018-08-07|BISMILLAH RESTAURANT|Canvass Re-Inspec...|           33.33|58. ALLERGEN TRAI...|\n",
      "|     2018-06-05|    FRANCESCA'S CAFE|License Re-Inspec...|           33.33|                NULL|\n",
      "|     2018-06-21|PRECIOUS LITTLE O...|             License|           33.33|35. WALLS, CEILIN...|\n",
      "|     2018-07-09|PATRON MEXICAN GR...|           Complaint|           33.33|3. MANAGEMENT, FO...|\n",
      "|     2018-08-03|              SUBWAY|             Canvass|           33.33|3. MANAGEMENT, FO...|\n",
      "|     2018-06-20|              ALDI'S|             Canvass|           100.0|34. FLOORS: CONST...|\n",
      "|     2018-07-18|JEWEL FOOD STORE ...|Short Form Complaint|           33.33|                NULL|\n",
      "|     2018-06-01|          VISTA CAFE|             Canvass|           33.33|11. ADEQUATE NUMB...|\n",
      "|     2018-07-26|   LONDONHOUSE HOTEL|             License|           100.0|                NULL|\n",
      "|     2018-06-27|LAWNDALE COMMUNIT...|             License|           33.33|34. FLOORS: CONST...|\n",
      "|     2018-06-20|          BIG SHARKS|             License|           33.33|                NULL|\n",
      "|     2018-06-04|        TY FOOD MART|             License|           100.0|                NULL|\n",
      "|     2018-07-26|        ROSEBUD-RUSH|           Complaint|           33.33|3. MANAGEMENT, FO...|\n",
      "|     2018-07-11|SPRINKLES CUPCAKE...|             Canvass|           66.66|3. MANAGEMENT, FO...|\n",
      "|     2018-06-08|AFC SUSHI@JEWEL O...|             Canvass|           33.33|                NULL|\n",
      "+---------------+--------------------+--------------------+----------------+--------------------+\n",
      "only showing top 20 rows"
     ]
    }
   ],
   "source": [
    "# Convert the Inspection_date column to date type\n",
    "df3 = df3.withColumn(\"inspection_date\", to_date(col(\"inspection_date\"), \"MM/dd/yyyy\"))\n",
    "\n",
    "# Calculate the date 2 years ago from today\n",
    "two_years_ago = date_sub(current_date(), 2 * 365)\n",
    "\n",
    "old_inspections_df3 = df3.filter(col(\"inspection_date\") < two_years_ago)\n",
    "old_inspections_df3 = old_inspections_df3.drop(\"restaurant_id\")\n",
    "\n",
    "# Show the filtered DataFrame\n",
    "old_inspections_df2.show()"
   ]
  },
  {
   "cell_type": "code",
   "execution_count": 144,
   "id": "28126819",
   "metadata": {},
   "outputs": [
    {
     "data": {
      "application/vnd.jupyter.widget-view+json": {
       "model_id": "",
       "version_major": 2,
       "version_minor": 0
      },
      "text/plain": [
       "FloatProgress(value=0.0, bar_style='info', description='Progress:', layout=Layout(height='25px', width='50%'),…"
      ]
     },
     "metadata": {},
     "output_type": "display_data"
    },
    {
     "name": "stdout",
     "output_type": "stream",
     "text": [
      "+---------------+--------------------+--------------------+--------------------+----------------+\n",
      "|inspection_date|     restaurant_name|     inspection_type|         description|normalized_score|\n",
      "+---------------+--------------------+--------------------+--------------------+----------------+\n",
      "|     2019-05-22|SOMBA VILLAGE (BA...|Cycle Inspection ...|Cold food item he...|           4.762|\n",
      "|     2022-03-11|        CAFE CARDINI|Cycle Inspection ...|Food contact surf...|           7.143|\n",
      "|     2018-10-24|    BROADWAY THEATRE|Cycle Inspection ...|Non-food contact ...|           7.143|\n",
      "|     2019-06-21|  TOTONNO'S PIZZERIA|Cycle Inspection ...|Food not cooled b...|           4.167|\n",
      "|     2022-04-26|    ACME BAR & GRILL|Cycle Inspection ...|Raw, cooked or pr...|           7.143|\n",
      "|     2019-04-30|         RUMPUS ROOM|Cycle Inspection ...|Food contact surf...|           4.167|\n",
      "|     2018-11-09|RADIO CITY MUSIC ...|Cycle Inspection ...|Filth flies or fo...|           5.952|\n",
      "|     2022-04-07|HEARST GOOD HOUSE...|Cycle Inspection ...|Non-food contact ...|            1.19|\n",
      "|     2019-09-12|CITY ISLAND YACHT...|Cycle Inspection ...|Non-food contact ...|           1.786|\n",
      "|     2022-04-26|UNCLE LOUIE G'S I...|Cycle Inspection ...|Evidence of mice ...|           5.357|\n",
      "|     2019-05-29|CLUB WYNN - GERA ...|Cycle Inspection ...|Raw, cooked or pr...|           7.738|\n",
      "|     2019-06-05|CITI FIELD STAND 110|Cycle Inspection ...|Plumbing not prop...|            1.19|\n",
      "|     2019-06-05|CITI FIELD BALLPA...|Cycle Inspection ...|Non-food contact ...|           5.357|\n",
      "|     2019-06-05|CITI FIELD NATHAN...|Cycle Inspection ...|Plumbing not prop...|           3.571|\n",
      "|     2019-08-14|STAND 216B DELTA ...|Cycle Inspection ...|Hot food item not...|           5.357|\n",
      "|     2019-08-14|           STAND 217|Cycle Inspection ...|Proper sanitizati...|           5.357|\n",
      "|     2019-09-21|         LEGENDS 000|Cycle Inspection ...|Food not protecte...|           2.976|\n",
      "|     2020-02-19|APOLLO THEATRE CO...|Cycle Inspection ...|Hand washing faci...|           8.929|\n",
      "|     2020-03-16|MATAMIM TAKE OUT ...|Cycle Inspection ...|Food not protecte...|           4.167|\n",
      "|     2019-05-16|          WORLD BEAN|Cycle Inspection ...|Food prepared fro...|           6.548|\n",
      "+---------------+--------------------+--------------------+--------------------+----------------+\n",
      "only showing top 20 rows"
     ]
    }
   ],
   "source": [
    "# Convert the Inspection_date column to date type\n",
    "df3 = df3.withColumn(\"inspection_date\", to_date(col(\"inspection_date\"), \"MM/dd/yyyy\"))\n",
    "\n",
    "# Define a window specification to partition by restaurant_id and order by Inspection_date descending\n",
    "window_spec = Window.partitionBy(\"restaurant_id\").orderBy(desc(\"inspection_date\"))\n",
    "\n",
    "# Add a row number to each row within the partition\n",
    "df3_with_row_num = df3.withColumn(\"row_num\", row_number().over(window_spec))\n",
    "\n",
    "# Filter to get only the latest record for each restaurant_id\n",
    "latest_records_df3 = df3_with_row_num.filter(col(\"row_num\") == 1).drop(\"row_num\")\n",
    "\n",
    "# Calculate the date two years ago from today\n",
    "two_years_ago = date_sub(current_date(), 2 * 365)\n",
    "\n",
    "# Filter records that are older than two years from latest_records_df\n",
    "old_records_df = latest_records_df3.filter(col(\"inspection_date\") < two_years_ago)\n",
    "\n",
    "old_records_df = old_records_df.drop(\"restaurant_id\")\n",
    "\n",
    "# Show the filtered DataFrame\n",
    "old_records_df.show()"
   ]
  },
  {
   "cell_type": "code",
   "execution_count": null,
   "id": "fc69db64",
   "metadata": {},
   "outputs": [],
   "source": []
  }
 ],
 "metadata": {
  "kernelspec": {
   "display_name": "PySpark",
   "language": "python",
   "name": "pysparkkernel"
  },
  "language_info": {
   "codemirror_mode": {
    "name": "python",
    "version": 3
   },
   "file_extension": ".py",
   "mimetype": "text/x-python",
   "name": "pyspark",
   "pygments_lexer": "python3"
  }
 },
 "nbformat": 4,
 "nbformat_minor": 5
}
