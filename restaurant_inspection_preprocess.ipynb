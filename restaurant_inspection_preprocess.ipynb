{
 "cells": [
  {
   "cell_type": "code",
   "execution_count": 1,
   "id": "185b7761",
   "metadata": {},
   "outputs": [
    {
     "name": "stdout",
     "output_type": "stream",
     "text": [
      "Starting Spark application\n"
     ]
    },
    {
     "data": {
      "text/html": [
       "<table>\n",
       "<tr><th>ID</th><th>YARN Application ID</th><th>Kind</th><th>State</th><th>Spark UI</th><th>Driver log</th><th>User</th><th>Current session?</th></tr><tr><td>7</td><td>application_1721983532199_0011</td><td>pyspark</td><td>idle</td><td><a target=\"_blank\" href=\"http://ip-10-0-0-195.ec2.internal:20888/proxy/application_1721983532199_0011/\">Link</a></td><td><a target=\"_blank\" href=\"http://ip-10-0-3-184.ec2.internal:8042/node/containerlogs/container_1721983532199_0011_01_000001/livy\">Link</a></td><td>None</td><td>✔</td></tr></table>"
      ],
      "text/plain": [
       "<IPython.core.display.HTML object>"
      ]
     },
     "metadata": {},
     "output_type": "display_data"
    },
    {
     "data": {
      "application/vnd.jupyter.widget-view+json": {
       "model_id": "",
       "version_major": 2,
       "version_minor": 0
      },
      "text/plain": [
       "FloatProgress(value=0.0, bar_style='info', description='Progress:', layout=Layout(height='25px', width='50%'),…"
      ]
     },
     "metadata": {},
     "output_type": "display_data"
    },
    {
     "name": "stdout",
     "output_type": "stream",
     "text": [
      "SparkSession available as 'spark'.\n"
     ]
    },
    {
     "data": {
      "application/vnd.jupyter.widget-view+json": {
       "model_id": "",
       "version_major": 2,
       "version_minor": 0
      },
      "text/plain": [
       "FloatProgress(value=0.0, bar_style='info', description='Progress:', layout=Layout(height='25px', width='50%'),…"
      ]
     },
     "metadata": {},
     "output_type": "display_data"
    }
   ],
   "source": [
    "from pyspark.sql import SparkSession\n",
    "from pyspark.sql.functions import col\n",
    "\n",
    "spark = SparkSession.builder.appName(\"FirstApp\").getOrCreate()\n",
    "\n",
    "data_url1 = 's3://emr-project/input/Food_Establishment_Inspection_Data_20240724.csv'\n",
    "data_url2 = 's3://emr-project/input/Food_Inspections_20240726.csv'\n",
    "data_url3 = 's3://emr-project/input/DOHMH_New_York_City_Restaurant_Inspection_Results_20240725.csv'\n",
    "output_url = 's3://emr-project/output/'"
   ]
  },
  {
   "cell_type": "markdown",
   "id": "1d229de2",
   "metadata": {},
   "source": [
    "# Dataset 1"
   ]
  },
  {
   "cell_type": "code",
   "execution_count": 2,
   "id": "18a58eb5",
   "metadata": {},
   "outputs": [
    {
     "data": {
      "application/vnd.jupyter.widget-view+json": {
       "model_id": "",
       "version_major": 2,
       "version_minor": 0
      },
      "text/plain": [
       "FloatProgress(value=0.0, bar_style='info', description='Progress:', layout=Layout(height='25px', width='50%'),…"
      ]
     },
     "metadata": {},
     "output_type": "display_data"
    }
   ],
   "source": [
    "# Read CSV file from S3\n",
    "df1 = spark.read.option(\"header\", \"true\").csv(data_url1)\n",
    "df1 = df1.select(\"Inspection Date\", \"Program Identifier\", \"Name\", \"Inspection Type\", \"Inspection Score\", \"Violation Description\")\n",
    "\n",
    "df1 = df1.withColumnRenamed(\"Inspection Date\", \"inspection_date\") \\\n",
    "    .withColumnRenamed(\"Program Identifier\", \"restaurant_id\") \\\n",
    "    .withColumnRenamed(\"Name\", \"restaurant_name\") \\\n",
    "    .withColumnRenamed(\"Inspection Type\", \"inspection_type\") \\\n",
    "    .withColumnRenamed(\"Inspection Score\", \"score\") \\\n",
    "    .withColumnRenamed(\"Violation Description\", \"description\")\n",
    "\n",
    "df1.createOrReplaceTempView(\"data_set1\")\n",
    "\n",
    "df1.write.mode(\"overwrite\").option(\"header\", \"true\").csv(output_url + \"/dataset1\")"
   ]
  },
  {
   "cell_type": "markdown",
   "id": "9eaca4d4",
   "metadata": {},
   "source": [
    "# Dataset 2"
   ]
  },
  {
   "cell_type": "code",
   "execution_count": 3,
   "id": "913e7608",
   "metadata": {},
   "outputs": [
    {
     "data": {
      "application/vnd.jupyter.widget-view+json": {
       "model_id": "",
       "version_major": 2,
       "version_minor": 0
      },
      "text/plain": [
       "FloatProgress(value=0.0, bar_style='info', description='Progress:', layout=Layout(height='25px', width='50%'),…"
      ]
     },
     "metadata": {},
     "output_type": "display_data"
    }
   ],
   "source": [
    "df2 = spark.read.option(\"header\", \"true\").csv(data_url2)\n",
    "df2 = df2.select(\"Inspection Date\", \"License #\", \"DBA Name\", \"Inspection Type\", \"Risk\", \"Violations\")\n",
    "\n",
    "df2 = df2.withColumnRenamed(\"Inspection Date\", \"inspection_date\") \\\n",
    "    .withColumnRenamed(\"License #\", \"restaurant_id\") \\\n",
    "    .withColumnRenamed(\"DBA Name\", \"restaurant_name\") \\\n",
    "    .withColumnRenamed(\"Inspection Type\", \"inspection_type\") \\\n",
    "    .withColumnRenamed(\"Risk\", \"score\") \\\n",
    "    .withColumnRenamed(\"Violations\", \"description\")\n",
    "\n",
    "df2.createOrReplaceTempView(\"data_set2\")\n",
    "\n",
    "df2.write.mode(\"overwrite\").option(\"header\", \"true\").csv(output_url + \"/dataset2\")"
   ]
  },
  {
   "cell_type": "markdown",
   "id": "fd5aade7",
   "metadata": {},
   "source": [
    "# Dataset 3"
   ]
  },
  {
   "cell_type": "code",
   "execution_count": 4,
   "id": "2f6020cf",
   "metadata": {},
   "outputs": [
    {
     "data": {
      "application/vnd.jupyter.widget-view+json": {
       "model_id": "",
       "version_major": 2,
       "version_minor": 0
      },
      "text/plain": [
       "FloatProgress(value=0.0, bar_style='info', description='Progress:', layout=Layout(height='25px', width='50%'),…"
      ]
     },
     "metadata": {},
     "output_type": "display_data"
    }
   ],
   "source": [
    "df3 = spark.read.option(\"header\", \"true\").csv(data_url3)\n",
    "df3 = df3.select(\"INSPECTION DATE\", \"CAMIS\", \"DBA\", \"INSPECTION TYPE\", \"SCORE\", \"VIOLATION DESCRIPTION\")\n",
    "\n",
    "df3 = df3.withColumnRenamed(\"INSPECTION DATE\", \"inspection_date\") \\\n",
    "    .withColumnRenamed(\"CAMIS\", \"restaurant_id\") \\\n",
    "    .withColumnRenamed(\"DBA\", \"restaurant_name\") \\\n",
    "    .withColumnRenamed(\"INSPECTION TYPE\", \"inspection_type\") \\\n",
    "    .withColumnRenamed(\"SCORE\", \"score\") \\\n",
    "    .withColumnRenamed(\"VIOLATION DESCRIPTION\", \"description\")\n",
    "\n",
    "df3.createOrReplaceTempView(\"data_set3\")\n",
    "\n",
    "df3.write.mode(\"overwrite\").option(\"header\", \"true\").csv(output_url + \"/dataset3\")"
   ]
  },
  {
   "cell_type": "code",
   "execution_count": null,
   "id": "63c41402",
   "metadata": {},
   "outputs": [],
   "source": []
  }
 ],
 "metadata": {
  "kernelspec": {
   "display_name": "PySpark",
   "language": "python",
   "name": "pysparkkernel"
  },
  "language_info": {
   "codemirror_mode": {
    "name": "python",
    "version": 3
   },
   "file_extension": ".py",
   "mimetype": "text/x-python",
   "name": "pyspark",
   "pygments_lexer": "python3"
  }
 },
 "nbformat": 4,
 "nbformat_minor": 5
}
